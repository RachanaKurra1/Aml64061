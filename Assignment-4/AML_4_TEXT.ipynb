{
  "nbformat": 4,
  "nbformat_minor": 0,
  "metadata": {
    "colab": {
      "provenance": []
    },
    "kernelspec": {
      "name": "python3",
      "display_name": "Python 3"
    },
    "language_info": {
      "name": "python"
    },
    "accelerator": "GPU",
    "gpuClass": "premium"
  },
  "cells": [
    {
      "cell_type": "markdown",
      "source": [
        "**Downloading the data**\n",
        "\n"
      ],
      "metadata": {
        "id": "SfEf_M_LmW-i"
      }
    },
    {
      "cell_type": "code",
      "source": [
        "!curl -O https://ai.stanford.edu/~amaas/data/sentiment/aclImdb_v1.tar.gz\n",
        "!tar -xf aclImdb_v1.tar.gz\n",
        "!rm -r aclImdb/train/unsup"
      ],
      "metadata": {
        "colab": {
          "base_uri": "https://localhost:8080/"
        },
        "id": "OK_YTOXxSkYp",
        "outputId": "989d7f76-3b2d-4b5c-cf46-460050be3e59"
      },
      "execution_count": 1,
      "outputs": [
        {
          "output_type": "stream",
          "name": "stdout",
          "text": [
            "  % Total    % Received % Xferd  Average Speed   Time    Time     Time  Current\n",
            "                                 Dload  Upload   Total   Spent    Left  Speed\n",
            "100 80.2M  100 80.2M    0     0  8906k      0  0:00:09  0:00:09 --:--:-- 16.0M\n"
          ]
        }
      ]
    },
    {
      "cell_type": "markdown",
      "source": [
        "Preparing the data"
      ],
      "metadata": {
        "id": "FxFa4ubQmcPT"
      }
    },
    {
      "cell_type": "code",
      "source": [
        "import os, pathlib, shutil, random\n",
        "from tensorflow import keras\n",
        "batch_size = 32\n",
        "base_dir7= pathlib.Path(\"/content/aclImdb\")\n",
        "val_dir7 = base_dir7/ \"val\"\n",
        "train_dir7 = base_dir7 / \"train\"\n",
        "for category in (\"neg\", \"pos\"):\n",
        "    os.makedirs(val_dir7 / category, exist_ok=True )\n",
        "    \n",
        "    files = os.listdir(train_dir7 / category)\n",
        "    random.Random(1337).shuffle(files)\n",
        "    num_val_samples = int(0.2 * len(files))\n",
        "    val_files = files[-num_val_samples:]\n",
        "    for fname in val_files:\n",
        "        shutil.move(train_dir7 / category / fname,\n",
        "                    val_dir7 / category / fname)\n",
        "\n",
        "train_ds = keras.utils.text_dataset_from_directory(\n",
        "    \"aclImdb/train\", batch_size=batch_size\n",
        ").take(150)\n",
        "\n",
        "val_ds = keras.utils.text_dataset_from_directory(\n",
        "    \"/content/aclImdb/val\", batch_size=batch_size\n",
        ")\n",
        "test_ds = keras.utils.text_dataset_from_directory(\n",
        "    \"aclImdb/test\", batch_size=batch_size\n",
        ")\n",
        "text_only_train_ds = train_ds.map(lambda x, y: x)\n"
      ],
      "metadata": {
        "id": "HCTPULw4DkWz",
        "colab": {
          "base_uri": "https://localhost:8080/"
        },
        "outputId": "233cdb9b-d19d-4ec4-df41-dac7dbf9e6aa"
      },
      "execution_count": 6,
      "outputs": [
        {
          "output_type": "stream",
          "name": "stdout",
          "text": [
            "Found 16000 files belonging to 2 classes.\n",
            "Found 9000 files belonging to 2 classes.\n",
            "Found 25000 files belonging to 2 classes.\n"
          ]
        }
      ]
    },
    {
      "cell_type": "markdown",
      "source": [
        "Preparing integer sequence datasets"
      ],
      "metadata": {
        "id": "08v9H-1dmf2d"
      }
    },
    {
      "cell_type": "code",
      "source": [
        "from tensorflow.keras import layers\n",
        "\n",
        "max_length = 150\n",
        "max_tokens = 20000\n",
        "text_vectorization = layers.TextVectorization(\n",
        "    max_tokens=max_tokens,\n",
        "    output_mode=\"int\",\n",
        "    output_sequence_length=max_length,\n",
        ")\n",
        "text_vectorization.adapt(text_only_train_ds)\n",
        "\n",
        "int_train_ds = train_ds.map(\n",
        "    lambda x, y: (text_vectorization(x), y),\n",
        "    num_parallel_calls=4)\n",
        "int_val_ds = val_ds.map(\n",
        "    lambda x, y: (text_vectorization(x), y),\n",
        "    num_parallel_calls=4)\n",
        "int_test_ds = test_ds.map(\n",
        "    lambda x, y: (text_vectorization(x), y),\n",
        "    num_parallel_calls=4)"
      ],
      "metadata": {
        "id": "Qwdim3LtDkh_"
      },
      "execution_count": 7,
      "outputs": []
    },
    {
      "cell_type": "markdown",
      "source": [
        "**A sequence model built on one-hot encoded vector sequences**"
      ],
      "metadata": {
        "id": "UeIC--rVmkNw"
      }
    },
    {
      "cell_type": "code",
      "source": [
        "import tensorflow as tf\n",
        "inputs = keras.Input(shape=(None,), dtype=\"int64\")\n",
        "embedded = tf.one_hot(inputs, depth=max_tokens)\n",
        "x = layers.Bidirectional(layers.LSTM(32))(embedded)\n",
        "x = layers.Dropout(0.5)(x)\n",
        "outputs = layers.Dense(1, activation=\"sigmoid\")(x)\n",
        "model = keras.Model(inputs, outputs)\n",
        "model.compile(optimizer=\"rmsprop\",\n",
        "              loss=\"binary_crossentropy\",\n",
        "              metrics=[\"accuracy\"])\n",
        "model.summary()"
      ],
      "metadata": {
        "id": "xHPKcp4TDkqm",
        "colab": {
          "base_uri": "https://localhost:8080/"
        },
        "outputId": "b16f98f2-d1c3-4904-df6e-e055d9edcac4"
      },
      "execution_count": 8,
      "outputs": [
        {
          "output_type": "stream",
          "name": "stdout",
          "text": [
            "Model: \"model_1\"\n",
            "_________________________________________________________________\n",
            " Layer (type)                Output Shape              Param #   \n",
            "=================================================================\n",
            " input_2 (InputLayer)        [(None, None)]            0         \n",
            "                                                                 \n",
            " tf.one_hot_1 (TFOpLambda)   (None, None, 20000)       0         \n",
            "                                                                 \n",
            " bidirectional_1 (Bidirectio  (None, 64)               5128448   \n",
            " nal)                                                            \n",
            "                                                                 \n",
            " dropout_1 (Dropout)         (None, 64)                0         \n",
            "                                                                 \n",
            " dense_1 (Dense)             (None, 1)                 65        \n",
            "                                                                 \n",
            "=================================================================\n",
            "Total params: 5,128,513\n",
            "Trainable params: 5,128,513\n",
            "Non-trainable params: 0\n",
            "_________________________________________________________________\n"
          ]
        }
      ]
    },
    {
      "cell_type": "markdown",
      "source": [
        "Training a first basic sequence model"
      ],
      "metadata": {
        "id": "pGMmF45lmr2m"
      }
    },
    {
      "cell_type": "code",
      "source": [
        "callbacks = [\n",
        "    keras.callbacks.ModelCheckpoint(\"one_hot_bidir_lstm.keras\",\n",
        "                                    save_best_only=True)\n",
        "]\n",
        "model.fit(int_train_ds, validation_data=int_val_ds, epochs=10, callbacks=callbacks)\n",
        "model = keras.models.load_model(\"one_hot_bidir_lstm.keras\")\n",
        "print(f\"Test acc: {model.evaluate(int_test_ds)[1]:.3f}\")"
      ],
      "metadata": {
        "id": "haVNKQlBDkuv",
        "colab": {
          "base_uri": "https://localhost:8080/"
        },
        "outputId": "050563ae-3652-49df-d5fe-53c8dbba7c6f"
      },
      "execution_count": 9,
      "outputs": [
        {
          "output_type": "stream",
          "name": "stdout",
          "text": [
            "Epoch 1/10\n",
            "150/150 [==============================] - 9s 37ms/step - loss: 0.6913 - accuracy: 0.5315 - val_loss: 0.6868 - val_accuracy: 0.5768\n",
            "Epoch 2/10\n",
            "150/150 [==============================] - 5s 32ms/step - loss: 0.5872 - accuracy: 0.7015 - val_loss: 0.4977 - val_accuracy: 0.7773\n",
            "Epoch 3/10\n",
            "150/150 [==============================] - 5s 32ms/step - loss: 0.4221 - accuracy: 0.8308 - val_loss: 0.4595 - val_accuracy: 0.8120\n",
            "Epoch 4/10\n",
            "150/150 [==============================] - 5s 32ms/step - loss: 0.3283 - accuracy: 0.8848 - val_loss: 0.4343 - val_accuracy: 0.8250\n",
            "Epoch 5/10\n",
            "150/150 [==============================] - 5s 32ms/step - loss: 0.2693 - accuracy: 0.9102 - val_loss: 0.3861 - val_accuracy: 0.8267\n",
            "Epoch 6/10\n",
            "150/150 [==============================] - 5s 32ms/step - loss: 0.2060 - accuracy: 0.9335 - val_loss: 0.4088 - val_accuracy: 0.8304\n",
            "Epoch 7/10\n",
            "150/150 [==============================] - 5s 31ms/step - loss: 0.1648 - accuracy: 0.9485 - val_loss: 0.4249 - val_accuracy: 0.8203\n",
            "Epoch 8/10\n",
            "150/150 [==============================] - 5s 31ms/step - loss: 0.1326 - accuracy: 0.9600 - val_loss: 0.5668 - val_accuracy: 0.8221\n",
            "Epoch 9/10\n",
            "150/150 [==============================] - 5s 32ms/step - loss: 0.1041 - accuracy: 0.9702 - val_loss: 0.4625 - val_accuracy: 0.8140\n",
            "Epoch 10/10\n",
            "150/150 [==============================] - 5s 31ms/step - loss: 0.0862 - accuracy: 0.9750 - val_loss: 0.4780 - val_accuracy: 0.8267\n",
            "782/782 [==============================] - 8s 9ms/step - loss: 0.3960 - accuracy: 0.8200\n",
            "Test acc: 0.820\n"
          ]
        }
      ]
    },
    {
      "cell_type": "markdown",
      "source": [
        "**Learning word embeddings with the Embedding layer**\n",
        "\n",
        "Instantiating an Embedding layer"
      ],
      "metadata": {
        "id": "5PkSSfcHmtTS"
      }
    },
    {
      "cell_type": "code",
      "source": [
        "embedding_layer = layers.Embedding(input_dim=max_tokens, output_dim=256)"
      ],
      "metadata": {
        "id": "gwqOwLSKDkyH"
      },
      "execution_count": 10,
      "outputs": []
    },
    {
      "cell_type": "markdown",
      "source": [
        "Model that uses an Embedding layer trained from scratch"
      ],
      "metadata": {
        "id": "BwlrpDgxm876"
      }
    },
    {
      "cell_type": "code",
      "source": [
        "inputs = keras.Input(shape=(None,), dtype=\"int64\")\n",
        "embedded = layers.Embedding(input_dim=max_tokens, output_dim=256)(inputs)\n",
        "x = layers.Bidirectional(layers.LSTM(32))(embedded)\n",
        "x = layers.Dropout(0.5)(x)\n",
        "outputs = layers.Dense(1, activation=\"sigmoid\")(x)\n",
        "model = keras.Model(inputs, outputs)\n",
        "model.compile(optimizer=\"rmsprop\",\n",
        "              loss=\"binary_crossentropy\",\n",
        "              metrics=[\"accuracy\"])\n",
        "model.summary()\n",
        "\n",
        "callbacks = [\n",
        "    keras.callbacks.ModelCheckpoint(\"embeddings_bidir_gru.keras\",\n",
        "                                    save_best_only=True)\n",
        "]\n",
        "model.fit(int_train_ds, validation_data=int_val_ds, epochs=10, callbacks=callbacks)\n",
        "model = keras.models.load_model(\"embeddings_bidir_gru.keras\")\n",
        "print(f\"Test acc: {model.evaluate(int_test_ds)[1]:.3f}\")"
      ],
      "metadata": {
        "id": "terl2LwbDky9",
        "colab": {
          "base_uri": "https://localhost:8080/"
        },
        "outputId": "0851a601-e75d-40b2-9b16-03bb853f9c51"
      },
      "execution_count": 11,
      "outputs": [
        {
          "output_type": "stream",
          "name": "stdout",
          "text": [
            "Model: \"model_2\"\n",
            "_________________________________________________________________\n",
            " Layer (type)                Output Shape              Param #   \n",
            "=================================================================\n",
            " input_3 (InputLayer)        [(None, None)]            0         \n",
            "                                                                 \n",
            " embedding_1 (Embedding)     (None, None, 256)         5120000   \n",
            "                                                                 \n",
            " bidirectional_2 (Bidirectio  (None, 64)               73984     \n",
            " nal)                                                            \n",
            "                                                                 \n",
            " dropout_2 (Dropout)         (None, 64)                0         \n",
            "                                                                 \n",
            " dense_2 (Dense)             (None, 1)                 65        \n",
            "                                                                 \n",
            "=================================================================\n",
            "Total params: 5,194,049\n",
            "Trainable params: 5,194,049\n",
            "Non-trainable params: 0\n",
            "_________________________________________________________________\n",
            "Epoch 1/10\n",
            "150/150 [==============================] - 23s 131ms/step - loss: 0.6566 - accuracy: 0.6042 - val_loss: 0.5641 - val_accuracy: 0.7249\n",
            "Epoch 2/10\n",
            "150/150 [==============================] - 11s 75ms/step - loss: 0.4921 - accuracy: 0.7819 - val_loss: 0.5257 - val_accuracy: 0.7480\n",
            "Epoch 3/10\n",
            "150/150 [==============================] - 8s 56ms/step - loss: 0.3638 - accuracy: 0.8544 - val_loss: 0.4767 - val_accuracy: 0.7758\n",
            "Epoch 4/10\n",
            "150/150 [==============================] - 7s 46ms/step - loss: 0.2616 - accuracy: 0.9098 - val_loss: 0.4551 - val_accuracy: 0.8080\n",
            "Epoch 5/10\n",
            "150/150 [==============================] - 6s 37ms/step - loss: 0.1828 - accuracy: 0.9410 - val_loss: 0.7767 - val_accuracy: 0.7476\n",
            "Epoch 6/10\n",
            "150/150 [==============================] - 5s 36ms/step - loss: 0.1201 - accuracy: 0.9631 - val_loss: 0.5605 - val_accuracy: 0.7991\n",
            "Epoch 7/10\n",
            "150/150 [==============================] - 4s 29ms/step - loss: 0.0964 - accuracy: 0.9681 - val_loss: 0.7387 - val_accuracy: 0.7553\n",
            "Epoch 8/10\n",
            "150/150 [==============================] - 5s 33ms/step - loss: 0.0774 - accuracy: 0.9756 - val_loss: 0.5783 - val_accuracy: 0.7944\n",
            "Epoch 9/10\n",
            "150/150 [==============================] - 4s 29ms/step - loss: 0.0673 - accuracy: 0.9817 - val_loss: 0.6701 - val_accuracy: 0.7828\n",
            "Epoch 10/10\n",
            "150/150 [==============================] - 4s 25ms/step - loss: 0.0431 - accuracy: 0.9869 - val_loss: 0.7252 - val_accuracy: 0.7740\n",
            "782/782 [==============================] - 5s 6ms/step - loss: 0.4759 - accuracy: 0.7960\n",
            "Test acc: 0.796\n"
          ]
        }
      ]
    },
    {
      "cell_type": "markdown",
      "source": [
        "Understanding padding and masking\n",
        "\n",
        "Using an Embedding layer with masking enabled"
      ],
      "metadata": {
        "id": "3MP9fVyBnBYJ"
      }
    },
    {
      "cell_type": "code",
      "source": [
        "inputs = keras.Input(shape=(None,), dtype=\"int64\")\n",
        "embedded = layers.Embedding(\n",
        "    input_dim=max_tokens, output_dim=256, mask_zero=True)(inputs)\n",
        "x = layers.Bidirectional(layers.LSTM(32))(embedded)\n",
        "x = layers.Dropout(0.5)(x)\n",
        "outputs = layers.Dense(1, activation=\"sigmoid\")(x)\n",
        "model = keras.Model(inputs, outputs)\n",
        "model.compile(optimizer=\"rmsprop\",\n",
        "              loss=\"binary_crossentropy\",\n",
        "              metrics=[\"accuracy\"])\n",
        "model.summary()\n",
        "\n",
        "callbacks = [\n",
        "    keras.callbacks.ModelCheckpoint(\"embeddings_bidir_gru_with_masking.keras\",\n",
        "                                    save_best_only=True)\n",
        "]\n",
        "model.fit(int_train_ds, validation_data=int_val_ds, epochs=10, callbacks=callbacks)\n",
        "model = keras.models.load_model(\"embeddings_bidir_gru_with_masking.keras\")\n",
        "print(f\"Test acc: {model.evaluate(int_test_ds)[1]:.3f}\")"
      ],
      "metadata": {
        "id": "IRyFMQ36Dk2I",
        "colab": {
          "base_uri": "https://localhost:8080/"
        },
        "outputId": "deffaf09-d2a5-4465-d435-86951496f3a2"
      },
      "execution_count": 12,
      "outputs": [
        {
          "output_type": "stream",
          "name": "stdout",
          "text": [
            "Model: \"model_3\"\n",
            "_________________________________________________________________\n",
            " Layer (type)                Output Shape              Param #   \n",
            "=================================================================\n",
            " input_4 (InputLayer)        [(None, None)]            0         \n",
            "                                                                 \n",
            " embedding_2 (Embedding)     (None, None, 256)         5120000   \n",
            "                                                                 \n",
            " bidirectional_3 (Bidirectio  (None, 64)               73984     \n",
            " nal)                                                            \n",
            "                                                                 \n",
            " dropout_3 (Dropout)         (None, 64)                0         \n",
            "                                                                 \n",
            " dense_3 (Dense)             (None, 1)                 65        \n",
            "                                                                 \n",
            "=================================================================\n",
            "Total params: 5,194,049\n",
            "Trainable params: 5,194,049\n",
            "Non-trainable params: 0\n",
            "_________________________________________________________________\n",
            "Epoch 1/10\n",
            "150/150 [==============================] - 26s 119ms/step - loss: 0.6544 - accuracy: 0.6015 - val_loss: 0.5231 - val_accuracy: 0.7649\n",
            "Epoch 2/10\n",
            "150/150 [==============================] - 10s 70ms/step - loss: 0.4312 - accuracy: 0.8121 - val_loss: 0.4132 - val_accuracy: 0.8140\n",
            "Epoch 3/10\n",
            "150/150 [==============================] - 8s 52ms/step - loss: 0.2734 - accuracy: 0.8954 - val_loss: 0.4190 - val_accuracy: 0.8187\n",
            "Epoch 4/10\n",
            "150/150 [==============================] - 7s 47ms/step - loss: 0.1796 - accuracy: 0.9360 - val_loss: 0.4269 - val_accuracy: 0.8111\n",
            "Epoch 5/10\n",
            "150/150 [==============================] - 6s 39ms/step - loss: 0.1228 - accuracy: 0.9583 - val_loss: 0.4389 - val_accuracy: 0.8049\n",
            "Epoch 6/10\n",
            "150/150 [==============================] - 5s 33ms/step - loss: 0.0844 - accuracy: 0.9723 - val_loss: 0.5383 - val_accuracy: 0.8054\n",
            "Epoch 7/10\n",
            "150/150 [==============================] - 5s 34ms/step - loss: 0.0561 - accuracy: 0.9827 - val_loss: 0.7094 - val_accuracy: 0.7881\n",
            "Epoch 8/10\n",
            "150/150 [==============================] - 5s 32ms/step - loss: 0.0433 - accuracy: 0.9873 - val_loss: 0.5370 - val_accuracy: 0.8010\n",
            "Epoch 9/10\n",
            "150/150 [==============================] - 4s 29ms/step - loss: 0.0285 - accuracy: 0.9921 - val_loss: 0.7110 - val_accuracy: 0.7744\n",
            "Epoch 10/10\n",
            "150/150 [==============================] - 5s 32ms/step - loss: 0.0307 - accuracy: 0.9896 - val_loss: 0.6863 - val_accuracy: 0.7991\n",
            "782/782 [==============================] - 8s 7ms/step - loss: 0.4135 - accuracy: 0.8140\n",
            "Test acc: 0.814\n"
          ]
        }
      ]
    },
    {
      "cell_type": "markdown",
      "source": [
        "***Using pretrained word embeddings***"
      ],
      "metadata": {
        "id": "o86_AagPnInn"
      }
    },
    {
      "cell_type": "code",
      "source": [
        "!wget http://nlp.stanford.edu/data/glove.6B.zip\n",
        "!unzip -q glove.6B.zip"
      ],
      "metadata": {
        "id": "-mN0wzxSDk51",
        "colab": {
          "base_uri": "https://localhost:8080/"
        },
        "outputId": "450c59a9-7c2c-48b0-9fe2-2df353d044a4"
      },
      "execution_count": 13,
      "outputs": [
        {
          "output_type": "stream",
          "name": "stdout",
          "text": [
            "--2023-04-24 05:25:57--  http://nlp.stanford.edu/data/glove.6B.zip\n",
            "Resolving nlp.stanford.edu (nlp.stanford.edu)... 171.64.67.140\n",
            "Connecting to nlp.stanford.edu (nlp.stanford.edu)|171.64.67.140|:80... connected.\n",
            "HTTP request sent, awaiting response... 302 Found\n",
            "Location: https://nlp.stanford.edu/data/glove.6B.zip [following]\n",
            "--2023-04-24 05:25:58--  https://nlp.stanford.edu/data/glove.6B.zip\n",
            "Connecting to nlp.stanford.edu (nlp.stanford.edu)|171.64.67.140|:443... connected.\n",
            "HTTP request sent, awaiting response... 301 Moved Permanently\n",
            "Location: https://downloads.cs.stanford.edu/nlp/data/glove.6B.zip [following]\n",
            "--2023-04-24 05:25:58--  https://downloads.cs.stanford.edu/nlp/data/glove.6B.zip\n",
            "Resolving downloads.cs.stanford.edu (downloads.cs.stanford.edu)... 171.64.64.22\n",
            "Connecting to downloads.cs.stanford.edu (downloads.cs.stanford.edu)|171.64.64.22|:443... connected.\n",
            "HTTP request sent, awaiting response... 200 OK\n",
            "Length: 862182613 (822M) [application/zip]\n",
            "Saving to: ‘glove.6B.zip’\n",
            "\n",
            "glove.6B.zip        100%[===================>] 822.24M  5.12MB/s    in 2m 40s  \n",
            "\n",
            "2023-04-24 05:28:40 (5.13 MB/s) - ‘glove.6B.zip’ saved [862182613/862182613]\n",
            "\n"
          ]
        }
      ]
    },
    {
      "cell_type": "markdown",
      "source": [
        "Parsing the GloVe word-embeddings file"
      ],
      "metadata": {
        "id": "X835rtwDnk6Z"
      }
    },
    {
      "cell_type": "code",
      "source": [
        "import numpy as np\n",
        "path_to_glove_file = \"glove.6B.100d.txt\"\n",
        "\n",
        "embeddings_index = {}\n",
        "with open(path_to_glove_file) as f:\n",
        "    for line in f:\n",
        "        word, coefs = line.split(maxsplit=1)\n",
        "        coefs = np.fromstring(coefs, \"f\", sep=\" \")\n",
        "        embeddings_index[word] = coefs\n",
        "\n",
        "print(f\"Found {len(embeddings_index)} word vectors.\")"
      ],
      "metadata": {
        "id": "MOLlubx2Dk_7",
        "colab": {
          "base_uri": "https://localhost:8080/"
        },
        "outputId": "07ddb511-8290-48ea-8f5e-8e0b8c50810b"
      },
      "execution_count": 14,
      "outputs": [
        {
          "output_type": "stream",
          "name": "stdout",
          "text": [
            "Found 400000 word vectors.\n"
          ]
        }
      ]
    },
    {
      "cell_type": "markdown",
      "source": [
        "Preparing the GloVe word-embeddings matrix"
      ],
      "metadata": {
        "id": "RRyuVIv_nofQ"
      }
    },
    {
      "cell_type": "code",
      "source": [
        "embedding_dim = 100\n",
        "\n",
        "vocabulary = text_vectorization.get_vocabulary()\n",
        "word_index = dict(zip(vocabulary, range(len(vocabulary))))\n",
        "\n",
        "embedding_matrix = np.zeros((max_tokens, embedding_dim))\n",
        "for word, i in word_index.items():\n",
        "    if i < max_tokens:\n",
        "        embedding_vector = embeddings_index.get(word)\n",
        "    if embedding_vector is not None:\n",
        "        embedding_matrix[i] = embedding_vector"
      ],
      "metadata": {
        "id": "qiz6_gW3EaO0"
      },
      "execution_count": 15,
      "outputs": []
    },
    {
      "cell_type": "code",
      "source": [
        "embedding_layer = layers.Embedding(\n",
        "    max_tokens,\n",
        "    embedding_dim,\n",
        "    embeddings_initializer=keras.initializers.Constant(embedding_matrix),\n",
        "    trainable=False,\n",
        "    mask_zero=True,\n",
        ")"
      ],
      "metadata": {
        "id": "XvhY89MEEaVf"
      },
      "execution_count": 16,
      "outputs": []
    },
    {
      "cell_type": "markdown",
      "source": [
        "**Model that uses a pretrained Embedding layer**"
      ],
      "metadata": {
        "id": "a1WNTUOnnx_e"
      }
    },
    {
      "cell_type": "code",
      "source": [
        "inputs = keras.Input(shape=(None,), dtype=\"int64\")\n",
        "embedded = embedding_layer(inputs)\n",
        "x = layers.Bidirectional(layers.LSTM(32))(embedded)\n",
        "x = layers.Dropout(0.5)(x)\n",
        "outputs = layers.Dense(1, activation=\"sigmoid\")(x)\n",
        "model = keras.Model(inputs, outputs)\n",
        "model.compile(optimizer=\"rmsprop\",\n",
        "              loss=\"binary_crossentropy\",\n",
        "              metrics=[\"accuracy\"])\n",
        "model.summary()\n",
        "\n",
        "callbacks = [\n",
        "    keras.callbacks.ModelCheckpoint(\"glove_embeddings_sequence_model.keras\",\n",
        "                                    save_best_only=True)\n",
        "]\n",
        "model.fit(int_train_ds, validation_data=int_val_ds, epochs=10, callbacks=callbacks)\n",
        "model = keras.models.load_model(\"glove_embeddings_sequence_model.keras\")\n",
        "print(f\"Test acc: {model.evaluate(int_test_ds)[1]:.3f}\")"
      ],
      "metadata": {
        "id": "lom9Mui-EaZ-",
        "colab": {
          "base_uri": "https://localhost:8080/"
        },
        "outputId": "50fe476a-2a65-4639-deb7-9c3ac4ad2a06"
      },
      "execution_count": 17,
      "outputs": [
        {
          "output_type": "stream",
          "name": "stdout",
          "text": [
            "Model: \"model_4\"\n",
            "_________________________________________________________________\n",
            " Layer (type)                Output Shape              Param #   \n",
            "=================================================================\n",
            " input_5 (InputLayer)        [(None, None)]            0         \n",
            "                                                                 \n",
            " embedding_3 (Embedding)     (None, None, 100)         2000000   \n",
            "                                                                 \n",
            " bidirectional_4 (Bidirectio  (None, 64)               34048     \n",
            " nal)                                                            \n",
            "                                                                 \n",
            " dropout_4 (Dropout)         (None, 64)                0         \n",
            "                                                                 \n",
            " dense_4 (Dense)             (None, 1)                 65        \n",
            "                                                                 \n",
            "=================================================================\n",
            "Total params: 2,034,113\n",
            "Trainable params: 34,113\n",
            "Non-trainable params: 2,000,000\n",
            "_________________________________________________________________\n",
            "Epoch 1/10\n",
            "150/150 [==============================] - 16s 52ms/step - loss: 0.6818 - accuracy: 0.5675 - val_loss: 0.6424 - val_accuracy: 0.6341\n",
            "Epoch 2/10\n",
            "150/150 [==============================] - 6s 37ms/step - loss: 0.6075 - accuracy: 0.6773 - val_loss: 0.5862 - val_accuracy: 0.6939\n",
            "Epoch 3/10\n",
            "150/150 [==============================] - 5s 37ms/step - loss: 0.5536 - accuracy: 0.7146 - val_loss: 0.5215 - val_accuracy: 0.7479\n",
            "Epoch 4/10\n",
            "150/150 [==============================] - 6s 37ms/step - loss: 0.5181 - accuracy: 0.7448 - val_loss: 0.4968 - val_accuracy: 0.7640\n",
            "Epoch 5/10\n",
            "150/150 [==============================] - 5s 36ms/step - loss: 0.4945 - accuracy: 0.7673 - val_loss: 0.4746 - val_accuracy: 0.7762\n",
            "Epoch 6/10\n",
            "150/150 [==============================] - 4s 26ms/step - loss: 0.4748 - accuracy: 0.7735 - val_loss: 0.5121 - val_accuracy: 0.7476\n",
            "Epoch 7/10\n",
            "150/150 [==============================] - 6s 37ms/step - loss: 0.4537 - accuracy: 0.7906 - val_loss: 0.4592 - val_accuracy: 0.7884\n",
            "Epoch 8/10\n",
            "150/150 [==============================] - 6s 38ms/step - loss: 0.4391 - accuracy: 0.7954 - val_loss: 0.4586 - val_accuracy: 0.7856\n",
            "Epoch 9/10\n",
            "150/150 [==============================] - 4s 26ms/step - loss: 0.4255 - accuracy: 0.8040 - val_loss: 0.4796 - val_accuracy: 0.7726\n",
            "Epoch 10/10\n",
            "150/150 [==============================] - 6s 37ms/step - loss: 0.4078 - accuracy: 0.8173 - val_loss: 0.4442 - val_accuracy: 0.7912\n",
            "782/782 [==============================] - 7s 6ms/step - loss: 0.4454 - accuracy: 0.7902\n",
            "Test acc: 0.790\n"
          ]
        }
      ]
    }
  ]
}